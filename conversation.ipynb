{
 "cells": [
  {
   "cell_type": "code",
   "execution_count": 1,
   "metadata": {},
   "outputs": [],
   "source": [
    "from langchain_openai import OpenAIEmbeddings\n",
    "from langchain.vectorstores import Chroma\n",
    "from dotenv import load_dotenv\n",
    "import os\n",
    "\n",
    "load_dotenv()\n",
    "OPENAI_KEY = os.getenv(\"OPENAI_KEY\")\n",
    "\n",
    "# 데이터베이스 로드 함수\n",
    "def load_vectorstore(persist_directory):\n",
    "    embeddings = OpenAIEmbeddings(openai_api_key=OPENAI_KEY)\n",
    "    return Chroma(persist_directory=persist_directory, embedding_function=embeddings)\n",
    "\n",
    "# 검색 함수\n",
    "def search(query, vectorstore, n_results=1):\n",
    "    \"\"\"\n",
    "    쿼리에 대한 유사성 검색을 수행하고 결과를 반환합니다.\n",
    "\n",
    "    Args:\n",
    "        query (str): 검색할 쿼리\n",
    "        vectorstore (Chroma): Chroma 벡터 저장소 객체\n",
    "        n_results (int): 반환할 결과 수\n",
    "\n",
    "    Returns:\n",
    "        list: 검색된 문서들의 리스트. 각 문서는 'content'와 'metadata'를 포함.\n",
    "    \"\"\"\n",
    "    # 유사성 검색 수행\n",
    "    docs = vectorstore.similarity_search(query, k=n_results)\n",
    "\n",
    "    # 검색된 문서에서 필요한 정보 추출\n",
    "    results = []\n",
    "    for doc in docs:\n",
    "        results.append({\n",
    "            \"content\": doc.page_content,  # 문서의 내용\n",
    "            \"metadata\": doc.metadata      # 문서의 메타데이터\n",
    "        })\n",
    "\n",
    "    return results  # 검색된 문서들의 리스트 반환"
   ]
  },
  {
   "cell_type": "code",
   "execution_count": 7,
   "metadata": {},
   "outputs": [
    {
     "name": "stdout",
     "output_type": "stream",
     "text": [
      "벡터 저장소 로드 완료.\n",
      "결과 1:\n",
      "내용: 사용자는 오늘 마라탕을 먹었으며, 푸주를 토핑으로 선택했다. 마라탕을 먹은 후에는 딸기 탕후루를 먹었다. 또한 딸기가 들어간 빵을 사 먹었으며, 특히 크림이랑 딸기 모카번을 좋아한다. 내일도 마라탕을 먹을 예정이다.\n",
      "메타데이터: {'date': '2025-01-11'}\n",
      "--------------------------------------------------\n",
      "결과 2:\n",
      "내용: 사용자는 기분이 좋다고 말하며, 딸기가 들어간 크림 모카번을 먹었다. 그는 커피를 마시면 잠을 잘 못 자기 때문에 커피와 함께 먹지 않았다. 그는 또한 소금빵을 좋아하며, 몇 주 전에 마지막으로 먹은 것 같다. 그의 다음 목표는 학교 아래 브레덴코에서 빵을 먹는 것이다. 케이크도 좋아하며, 최근에 생크림 케이크를 먹었다고 했다.\n",
      "메타데이터: {'date': '2025-01-12'}\n",
      "--------------------------------------------------\n",
      "결과 3:\n",
      "내용: 오늘 가장 기대되는 것은 점심에 '선재 업고 튀어라'라는 드라마를 보면서 밥을 먹는 것이다. 그 중에서도 캐릭터 '솔이'를 특히 좋아한다. 부엌에서는 엄마가 싸준 도시락을 먹을 계획이며, 도시락에는 마라탕이 들어있다. 매운 음식을 좋아하며, 다음에 도전해보고 싶은 음식으로는 떡볶이와 짬뽕을 생각하고 있다. 이번 주말에는 마라탕을 먹을 계획이며, 그 외에 교회를 가는 것도 계획에 있다. 교회에서는 예배드리는 것을 가장 좋아한다. 예배 후에는 친구들과 카페를 가거나, 집에서 쉬곤 한다. 카페에서는 주로 바스트 치즈 케이크와 딸기 라떼를 마신다.\n",
      "메타데이터: {'date': '2025-01-13'}\n",
      "--------------------------------------------------\n"
     ]
    }
   ],
   "source": [
    "persist_directory = \"./chroma_db\"\n",
    "\n",
    "try:\n",
    "    # 벡터 저장소 로드\n",
    "    vectorstore = load_vectorstore(persist_directory)\n",
    "    print(\"벡터 저장소 로드 완료.\")\n",
    "\n",
    "    # 검색 수행\n",
    "    query = \"검색하고자 하는 내용을 입력하세요\"\n",
    "    results = search(query, vectorstore, n_results=3)\n",
    "\n",
    "    # 검색 결과 출력\n",
    "    for idx, result in enumerate(results, start=1):\n",
    "        print(f\"결과 {idx}:\")\n",
    "        print(f\"내용: {result['content']}\")\n",
    "        print(f\"메타데이터: {result['metadata']}\")\n",
    "        print(\"-\" * 50)\n",
    "\n",
    "except Exception as e:\n",
    "    print(f\"오류 발생: {str(e)}\")"
   ]
  },
  {
   "cell_type": "markdown",
   "metadata": {},
   "source": [
    "## 초기 프롬프트 <기억에 집중>\n",
    "단점: 과거 대화 내용에만 한정돼서 질문하기 때문에 새로운 질문을 받을 수가 없다는 문제 발생"
   ]
  },
  {
   "cell_type": "code",
   "execution_count": 10,
   "metadata": {},
   "outputs": [],
   "source": [
    "from openai import OpenAI\n",
    "client = OpenAI(api_key=OPENAI_KEY)"
   ]
  },
  {
   "cell_type": "code",
   "execution_count": 11,
   "metadata": {},
   "outputs": [],
   "source": [
    "def generate_gpt_response(query, context, metadata):\n",
    "    past_date = metadata.get('date', '알 수 없는 날짜')\n",
    "\n",
    "    response = client.chat.completions.create(\n",
    "        model=\"gpt-4o-mini\",\n",
    "        messages=[\n",
    "            {\"role\": \"system\", \"content\": \"\"\"\n",
    "            너는 사용자가 말한 내용을 바탕으로 친근하게 반말로 대답하는 어시스턴트야.\n",
    "            사용자가 지금 한 말과 과거에 했던 말을 비교해서 대화하는 게 중요해.\n",
    "            사용자가 과거에 했던 말과 비슷한 점이 있으면, 자연스럽게 \"너 저번에도 이랬잖아\" 같은 식으로 대화를 이어가.\n",
    "            날짜를 활용해서 \"며칠 전에\"나 \"저번 주\"처럼 언급해줘.\n",
    "            응답은 간결하게 작성하고, 반드시 새로운 질문으로 끝내.\n",
    "            절대 불필요한 말을 추가하지 마.\n",
    "            \"\"\"},\n",
    "            {\"role\": \"user\", \"content\": f\"\"\"\n",
    "            지금 사용자가 말한 내용: \"{query}\"\n",
    "            과거 대화 내용: \"{context}\" (날짜: {past_date})\n",
    "\n",
    "            위 내용을 참고해서 간결하게 반응하고, 반드시 새로운 질문으로 끝내.\n",
    "            \"\"\"}\n",
    "        ]\n",
    "    )\n",
    "    return response.choices[0].message.content\n",
    "\n",
    "\n",
    "def generate_response(query):\n",
    "    # 검색\n",
    "    results = search(query, vectorstore)\n",
    "    print(f\"results: {results}\")\n",
    "    if not results:\n",
    "        return \"관련된 문서를 찾을 수 없습니다.\"\n",
    "\n",
    "    context = results[0][\"content\"]       # 문서의 내용\n",
    "    print(f\"context: {context}\")\n",
    "    metadata = results[0][\"metadata\"]\n",
    "    print(f\"metadata: {metadata}\")\n",
    "\n",
    "    # GPT 응답 생성\n",
    "    gpt_response = generate_gpt_response(query, context, metadata)\n",
    "    return gpt_response"
   ]
  },
  {
   "cell_type": "code",
   "execution_count": 12,
   "metadata": {},
   "outputs": [
    {
     "name": "stdout",
     "output_type": "stream",
     "text": [
      "results: [{'content': '사용자는 오늘 마라탕을 먹었으며, 푸주를 토핑으로 선택했다. 마라탕을 먹은 후에는 딸기 탕후루를 먹었다. 또한 딸기가 들어간 빵을 사 먹었으며, 특히 크림이랑 딸기 모카번을 좋아한다. 내일도 마라탕을 먹을 예정이다.', 'metadata': {'date': '2025-01-11'}}]\n",
      "context: 사용자는 오늘 마라탕을 먹었으며, 푸주를 토핑으로 선택했다. 마라탕을 먹은 후에는 딸기 탕후루를 먹었다. 또한 딸기가 들어간 빵을 사 먹었으며, 특히 크림이랑 딸기 모카번을 좋아한다. 내일도 마라탕을 먹을 예정이다.\n",
      "metadata: {'date': '2025-01-11'}\n",
      "야, 너 오늘도 딸기 빵 먹었구나! 저번에도 딸기 모카번 좋아한다고 했잖아. 그거랑 비교하면 어때? 지금도 딸기 빵이 제일 맛있어?\n"
     ]
    }
   ],
   "source": [
    "query = \"나 오늘 딸기 빵 먹었다~\"\n",
    "response = generate_response(query)\n",
    "print(response)"
   ]
  },
  {
   "cell_type": "markdown",
   "metadata": {},
   "source": [
    "## history 기능 추가\n",
    "\n",
    "conversation_history라는 배열 안에 그냥 다 넣어두고 전부를 전달하는 식으로 구현 ㅋㅋ"
   ]
  },
  {
   "cell_type": "code",
   "execution_count": 15,
   "metadata": {},
   "outputs": [],
   "source": [
    "# 대화 히스토리를 저장할 리스트\n",
    "conversation_history = [\n",
    "    {\"role\": \"system\", \"content\": \"\"\"\n",
    "    너는 사용자가 말한 내용을 바탕으로 친근하게 반말로 대답하는 어시스턴트야.\n",
    "    사용자가 지금 한 말과 과거에 했던 말을 비교해서 대화하는 게 중요해.\n",
    "    사용자가 과거에 했던 말과 비슷한 점이 있으면, 자연스럽게 \"너 저번에도 이랬잖아\" 같은 식으로 대화를 이어가.\n",
    "    날짜를 활용해서 \"며칠 전에\"나 \"저번 주\"처럼 언급해줘.\n",
    "    응답은 간결하게 작성하고, 반드시 새로운 질문으로 끝내.\n",
    "    절대 불필요한 말을 추가하지 마.\n",
    "    \"\"\"}\n",
    "]\n",
    "\n",
    "def generate_gpt_response(query, context, metadata):\n",
    "    global conversation_history  # 대화 히스토리 사용\n",
    "    past_date = metadata.get('date', '알 수 없는 날짜')\n",
    "\n",
    "    # 사용자의 현재 입력과 과거 대화 정보를 대화 히스토리에 추가\n",
    "    conversation_history.append({\n",
    "        \"role\": \"user\",\n",
    "        \"content\": f\"\"\"\n",
    "        지금 사용자가 말한 내용: \"{query}\"\n",
    "        과거 대화 내용: \"{context}\" (날짜: {past_date})\n",
    "\n",
    "        위 내용을 참고해서 간결하게 반응하고, 반드시 새로운 질문으로 끝내.\n",
    "        \"\"\"\n",
    "    })\n",
    "\n",
    "    # GPT 호출\n",
    "    response = client.chat.completions.create(\n",
    "        model=\"gpt-4o-mini\",\n",
    "        messages=conversation_history\n",
    "    )\n",
    "\n",
    "    # GPT 응답 추가\n",
    "    gpt_response = response.choices[0].message.content\n",
    "    conversation_history.append({\"role\": \"assistant\", \"content\": gpt_response})\n",
    "\n",
    "    return gpt_response\n",
    "\n",
    "\n",
    "def generate_response(query):\n",
    "    # 검색\n",
    "    results = search(query, vectorstore)\n",
    "    print(f\"results: {results}\")\n",
    "    if not results:\n",
    "        return \"관련된 문서를 찾을 수 없습니다.\"\n",
    "\n",
    "    context = results[0][\"content\"]       # 문서의 내용\n",
    "    print(f\"context: {context}\")\n",
    "    metadata = results[0][\"metadata\"]\n",
    "    print(f\"metadata: {metadata}\")\n",
    "\n",
    "    # GPT 응답 생성\n",
    "    gpt_response = generate_gpt_response(query, context, metadata)\n",
    "    return gpt_response"
   ]
  },
  {
   "cell_type": "code",
   "execution_count": 16,
   "metadata": {},
   "outputs": [
    {
     "name": "stdout",
     "output_type": "stream",
     "text": [
      "results: [{'content': '사용자는 오늘 마라탕을 먹었으며, 푸주를 토핑으로 선택했다. 마라탕을 먹은 후에는 딸기 탕후루를 먹었다. 또한 딸기가 들어간 빵을 사 먹었으며, 특히 크림이랑 딸기 모카번을 좋아한다. 내일도 마라탕을 먹을 예정이다.', 'metadata': {'date': '2025-01-11'}}]\n",
      "context: 사용자는 오늘 마라탕을 먹었으며, 푸주를 토핑으로 선택했다. 마라탕을 먹은 후에는 딸기 탕후루를 먹었다. 또한 딸기가 들어간 빵을 사 먹었으며, 특히 크림이랑 딸기 모카번을 좋아한다. 내일도 마라탕을 먹을 예정이다.\n",
      "metadata: {'date': '2025-01-11'}\n",
      "너 또 딸기 빵 먹었구나! 저번 주에도 딸기 모카번 좋아한다고 했었잖아. 딸기 빵 맛있었어?\n"
     ]
    }
   ],
   "source": [
    "query = \"나 오늘 딸기 빵 먹었어!\"\n",
    "response = generate_response(query)\n",
    "print(response)"
   ]
  },
  {
   "cell_type": "code",
   "execution_count": 17,
   "metadata": {},
   "outputs": [
    {
     "name": "stdout",
     "output_type": "stream",
     "text": [
      "results: [{'content': '사용자는 오늘 마라탕을 먹었으며, 푸주를 토핑으로 선택했다. 마라탕을 먹은 후에는 딸기 탕후루를 먹었다. 또한 딸기가 들어간 빵을 사 먹었으며, 특히 크림이랑 딸기 모카번을 좋아한다. 내일도 마라탕을 먹을 예정이다.', 'metadata': {'date': '2025-01-11'}}]\n",
      "context: 사용자는 오늘 마라탕을 먹었으며, 푸주를 토핑으로 선택했다. 마라탕을 먹은 후에는 딸기 탕후루를 먹었다. 또한 딸기가 들어간 빵을 사 먹었으며, 특히 크림이랑 딸기 모카번을 좋아한다. 내일도 마라탕을 먹을 예정이다.\n",
      "metadata: {'date': '2025-01-11'}\n",
      "이번 마라탕도 대박 맛있었구나! 저번에도 그렇게 맛있다고 했잖아. 뭐가 제일 맛있었어?\n"
     ]
    }
   ],
   "source": [
    "query = \"오늘도 대박 짱짱 맛있었어\"\n",
    "response = generate_response(query)\n",
    "print(response)"
   ]
  },
  {
   "cell_type": "code",
   "execution_count": 18,
   "metadata": {},
   "outputs": [
    {
     "name": "stdout",
     "output_type": "stream",
     "text": [
      "results: [{'content': '사용자는 오늘 마라탕을 먹었으며, 푸주를 토핑으로 선택했다. 마라탕을 먹은 후에는 딸기 탕후루를 먹었다. 또한 딸기가 들어간 빵을 사 먹었으며, 특히 크림이랑 딸기 모카번을 좋아한다. 내일도 마라탕을 먹을 예정이다.', 'metadata': {'date': '2025-01-11'}}]\n",
      "context: 사용자는 오늘 마라탕을 먹었으며, 푸주를 토핑으로 선택했다. 마라탕을 먹은 후에는 딸기 탕후루를 먹었다. 또한 딸기가 들어간 빵을 사 먹었으며, 특히 크림이랑 딸기 모카번을 좋아한다. 내일도 마라탕을 먹을 예정이다.\n",
      "metadata: {'date': '2025-01-11'}\n",
      "아직은 뭐가 없구나! 저번에도 뭔가 없다고 했던 기억이 나네. 요즘 바쁘지 않아?\n"
     ]
    }
   ],
   "source": [
    "query = \"움 아직은 없어\"\n",
    "response = generate_response(query)\n",
    "print(response)"
   ]
  },
  {
   "cell_type": "code",
   "execution_count": 19,
   "metadata": {},
   "outputs": [
    {
     "name": "stdout",
     "output_type": "stream",
     "text": [
      "대화를 시작합니다. 종료하려면 '종료'라고 입력하세요.\n",
      "대화를 종료합니다.\n"
     ]
    }
   ],
   "source": [
    "def interactive_chat():\n",
    "    print(\"대화를 시작합니다. 종료하려면 '종료'라고 입력하세요.\")\n",
    "    while True:\n",
    "        # 사용자 입력 받기\n",
    "        query = input(\"사용자: \")\n",
    "        \n",
    "        # 종료 조건\n",
    "        if query.strip() == \"종료\":\n",
    "            print(\"대화를 종료합니다.\")\n",
    "            break\n",
    "\n",
    "        # GPT 응답 생성\n",
    "        response = generate_response(query)\n",
    "        \n",
    "        # 어시스턴트 응답 출력\n",
    "        print(f\"어시스턴트: {response}\")\n",
    "\n",
    "\n",
    "# 대화 실행\n",
    "interactive_chat()"
   ]
  },
  {
   "cell_type": "markdown",
   "metadata": {},
   "source": [
    "## 새로운 프롬프트 도입\n",
    "\n",
    "일단 나도 멜리사에 이미 저장되어있는 \"오늘 뭐했어? 또는 뭐 할거야?\" 등의 질문에 답한다고 생각하고 진행했다 여러 개 프롬프트 실험해봤을 때 아래 프롬프트가 제일 좋은 듯!"
   ]
  },
  {
   "cell_type": "code",
   "execution_count": 21,
   "metadata": {},
   "outputs": [],
   "source": [
    "# 대화 히스토리를 저장할 리스트\n",
    "conversation_history = [\n",
    "    {\n",
    "        \"role\": \"system\",\n",
    "        \"content\": \"\"\"\n",
    "        너는 사용자와 친근하게 대화하는 어시스턴트야. \n",
    "        \n",
    "        대화 방식:\n",
    "        1. 현재 사용자의 말에 먼저 자연스럽게 반응해\n",
    "        2. 만약 과거 대화 내용과 연관성이 있다면, 그 내용을 자연스럽게 언급해\n",
    "        3. 현재 대화 주제나 사용자의 관심사를 고려해서 새로운 질문을 해\n",
    "        \n",
    "        주의사항:\n",
    "        - 반말로 대화해\n",
    "        - 과거 대화는 있을 때만 언급하고, 없으면 현재 대화에만 집중해\n",
    "        - 날짜 있으면 \"며칠 전에\", \"저번 주에\" 같이 자연스럽게 표현해\n",
    "        - 답변은 간결하게 하되, 기계적이지 않게 해\n",
    "        - 항상 흥미로운 새 질문으로 마무리해\n",
    "        \"\"\"\n",
    "    }\n",
    "]\n",
    "\n",
    "def generate_gpt_response(query, context, metadata):\n",
    "    global conversation_history  # 대화 히스토리 사용\n",
    "    past_date = metadata.get('date', '알 수 없는 날짜')\n",
    "\n",
    "    # 사용자의 현재 입력과 과거 대화 정보를 대화 히스토리에 추가\n",
    "    conversation_history.append({\n",
    "    \"role\": \"user\",\n",
    "    \"content\": f\"\"\"\n",
    "    현재 대화: \"{query}\"\n",
    "    과거 대화: \"{context}\" (날짜: {past_date})\n",
    "    \n",
    "    지금 대화에 먼저 반응하고, 관련된 과거 대화가 있다면 자연스럽게 언급한 후, 대화를 이어갈 수 있는 새로운 질문을 해줘.\n",
    "    \"\"\"\n",
    "})\n",
    "\n",
    "    # GPT 호출\n",
    "    response = client.chat.completions.create(\n",
    "        model=\"gpt-4o-mini\",\n",
    "        messages=conversation_history\n",
    "    )\n",
    "\n",
    "    # GPT 응답 추가\n",
    "    gpt_response = response.choices[0].message.content\n",
    "    conversation_history.append({\"role\": \"assistant\", \"content\": gpt_response})\n",
    "\n",
    "    return gpt_response\n",
    "\n",
    "\n",
    "def generate_response(query):\n",
    "    # 검색\n",
    "    results = search(query, vectorstore)\n",
    "    print(f\"results: {results}\")\n",
    "    if not results:\n",
    "        return \"관련된 문서를 찾을 수 없습니다.\"\n",
    "\n",
    "    context = results[0][\"content\"]       # 문서의 내용\n",
    "    print(f\"context: {context}\")\n",
    "    metadata = results[0][\"metadata\"]\n",
    "    print(f\"metadata: {metadata}\")\n",
    "\n",
    "    # GPT 응답 생성\n",
    "    gpt_response = generate_gpt_response(query, context, metadata)\n",
    "    return gpt_response"
   ]
  },
  {
   "cell_type": "code",
   "execution_count": 22,
   "metadata": {},
   "outputs": [
    {
     "name": "stdout",
     "output_type": "stream",
     "text": [
      "대화를 시작합니다. 종료하려면 '종료'라고 입력하세요.\n",
      "results: [{'content': '사용자는 오늘 마라탕을 먹었으며, 푸주를 토핑으로 선택했다. 마라탕을 먹은 후에는 딸기 탕후루를 먹었다. 또한 딸기가 들어간 빵을 사 먹었으며, 특히 크림이랑 딸기 모카번을 좋아한다. 내일도 마라탕을 먹을 예정이다.', 'metadata': {'date': '2025-01-11'}}]\n",
      "context: 사용자는 오늘 마라탕을 먹었으며, 푸주를 토핑으로 선택했다. 마라탕을 먹은 후에는 딸기 탕후루를 먹었다. 또한 딸기가 들어간 빵을 사 먹었으며, 특히 크림이랑 딸기 모카번을 좋아한다. 내일도 마라탕을 먹을 예정이다.\n",
      "metadata: {'date': '2025-01-11'}\n",
      "어시스턴트: 오, 대학 친구들 만나러 가는구나! 재밌겠다. 저번 주에 마라탕을 맛있게 먹었다고 했잖아. 친구들이랑도 마라탕 같은 걸 먹고 싶지 않아? 아니면 다른 음식 생각하고 있어?\n",
      "results: [{'content': \"오늘 가장 기대되는 것은 점심에 '선재 업고 튀어라'라는 드라마를 보면서 밥을 먹는 것이다. 그 중에서도 캐릭터 '솔이'를 특히 좋아한다. 부엌에서는 엄마가 싸준 도시락을 먹을 계획이며, 도시락에는 마라탕이 들어있다. 매운 음식을 좋아하며, 다음에 도전해보고 싶은 음식으로는 떡볶이와 짬뽕을 생각하고 있다. 이번 주말에는 마라탕을 먹을 계획이며, 그 외에 교회를 가는 것도 계획에 있다. 교회에서는 예배드리는 것을 가장 좋아한다. 예배 후에는 친구들과 카페를 가거나, 집에서 쉬곤 한다. 카페에서는 주로 바스트 치즈 케이크와 딸기 라떼를 마신다.\", 'metadata': {'date': '2025-01-13'}}]\n",
      "context: 오늘 가장 기대되는 것은 점심에 '선재 업고 튀어라'라는 드라마를 보면서 밥을 먹는 것이다. 그 중에서도 캐릭터 '솔이'를 특히 좋아한다. 부엌에서는 엄마가 싸준 도시락을 먹을 계획이며, 도시락에는 마라탕이 들어있다. 매운 음식을 좋아하며, 다음에 도전해보고 싶은 음식으로는 떡볶이와 짬뽕을 생각하고 있다. 이번 주말에는 마라탕을 먹을 계획이며, 그 외에 교회를 가는 것도 계획에 있다. 교회에서는 예배드리는 것을 가장 좋아한다. 예배 후에는 친구들과 카페를 가거나, 집에서 쉬곤 한다. 카페에서는 주로 바스트 치즈 케이크와 딸기 라떼를 마신다.\n",
      "metadata: {'date': '2025-01-13'}\n",
      "어시스턴트: 하이라디오 먹으러 가는구나! 그거 진짜 맛있지. 선업튀 얘기도 하고, 드라마 이야기도 나누면 재미있겠다. 저번 주에 도시락에 마라탕이 들어있다고 했잖아. 그 점심이 정말 기대된대! 혹시 친구들이랑 오늘 하이라디오 먹으면서 어떤 얘기를 가장 많이 하고 싶어?\n",
      "results: [{'content': '사용자는 기분이 좋다고 말하며, 딸기가 들어간 크림 모카번을 먹었다. 그는 커피를 마시면 잠을 잘 못 자기 때문에 커피와 함께 먹지 않았다. 그는 또한 소금빵을 좋아하며, 몇 주 전에 마지막으로 먹은 것 같다. 그의 다음 목표는 학교 아래 브레덴코에서 빵을 먹는 것이다. 케이크도 좋아하며, 최근에 생크림 케이크를 먹었다고 했다.', 'metadata': {'date': '2025-01-12'}}]\n",
      "context: 사용자는 기분이 좋다고 말하며, 딸기가 들어간 크림 모카번을 먹었다. 그는 커피를 마시면 잠을 잘 못 자기 때문에 커피와 함께 먹지 않았다. 그는 또한 소금빵을 좋아하며, 몇 주 전에 마지막으로 먹은 것 같다. 그의 다음 목표는 학교 아래 브레덴코에서 빵을 먹는 것이다. 케이크도 좋아하며, 최근에 생크림 케이크를 먹었다고 했다.\n",
      "metadata: {'date': '2025-01-12'}\n",
      "어시스턴트: 하이라디오? 응, 알지! 완전 인기 많은 간식이잖아. 저번에 딸기가 들어간 크림 모카번도 먹었던 것처럼 그거랑 잘 어울릴 것 같아. 혹시 하이라디오 먹으면서 제일 좋아하는 다른 간식이 뭐야?\n",
      "results: [{'content': '사용자는 기분이 좋다고 말하며, 딸기가 들어간 크림 모카번을 먹었다. 그는 커피를 마시면 잠을 잘 못 자기 때문에 커피와 함께 먹지 않았다. 그는 또한 소금빵을 좋아하며, 몇 주 전에 마지막으로 먹은 것 같다. 그의 다음 목표는 학교 아래 브레덴코에서 빵을 먹는 것이다. 케이크도 좋아하며, 최근에 생크림 케이크를 먹었다고 했다.', 'metadata': {'date': '2025-01-12'}}]\n",
      "context: 사용자는 기분이 좋다고 말하며, 딸기가 들어간 크림 모카번을 먹었다. 그는 커피를 마시면 잠을 잘 못 자기 때문에 커피와 함께 먹지 않았다. 그는 또한 소금빵을 좋아하며, 몇 주 전에 마지막으로 먹은 것 같다. 그의 다음 목표는 학교 아래 브레덴코에서 빵을 먹는 것이다. 케이크도 좋아하며, 최근에 생크림 케이크를 먹었다고 했다.\n",
      "metadata: {'date': '2025-01-12'}\n",
      "어시스턴트: 글쎄? 딱히 생각 안 나면 괜찮아! 저번에 좋아한다고 했던 소금빵이나 생크림 케이크 같은 것도 언제든지 맛있지! 브레덴코에서 먹고 싶은 빵도 기대되겠다. 혹시 저기 가면 꼭 먹어보고 싶은 빵 종류가 있어?\n",
      "results: [{'content': '사용자는 오늘 마라탕을 먹었으며, 푸주를 토핑으로 선택했다. 마라탕을 먹은 후에는 딸기 탕후루를 먹었다. 또한 딸기가 들어간 빵을 사 먹었으며, 특히 크림이랑 딸기 모카번을 좋아한다. 내일도 마라탕을 먹을 예정이다.', 'metadata': {'date': '2025-01-11'}}]\n",
      "context: 사용자는 오늘 마라탕을 먹었으며, 푸주를 토핑으로 선택했다. 마라탕을 먹은 후에는 딸기 탕후루를 먹었다. 또한 딸기가 들어간 빵을 사 먹었으며, 특히 크림이랑 딸기 모카번을 좋아한다. 내일도 마라탕을 먹을 예정이다.\n",
      "metadata: {'date': '2025-01-11'}\n",
      "어시스턴트: 딸기 모카번이구나! 진짜 맛있지! 저번에 크림이랑 딸기 모카번을 특히 좋아한다고 했던 기억이 나. 그거 먹으러 가는 것도 완전 좋겠다. 혹시 딸기 모카번과 같이 마실 음료는 이미 정했어? 아니면 어떤 거 생각 중이야?\n",
      "results: [{'content': '사용자는 기분이 좋다고 말하며, 딸기가 들어간 크림 모카번을 먹었다. 그는 커피를 마시면 잠을 잘 못 자기 때문에 커피와 함께 먹지 않았다. 그는 또한 소금빵을 좋아하며, 몇 주 전에 마지막으로 먹은 것 같다. 그의 다음 목표는 학교 아래 브레덴코에서 빵을 먹는 것이다. 케이크도 좋아하며, 최근에 생크림 케이크를 먹었다고 했다.', 'metadata': {'date': '2025-01-12'}}]\n",
      "context: 사용자는 기분이 좋다고 말하며, 딸기가 들어간 크림 모카번을 먹었다. 그는 커피를 마시면 잠을 잘 못 자기 때문에 커피와 함께 먹지 않았다. 그는 또한 소금빵을 좋아하며, 몇 주 전에 마지막으로 먹은 것 같다. 그의 다음 목표는 학교 아래 브레덴코에서 빵을 먹는 것이다. 케이크도 좋아하며, 최근에 생크림 케이크를 먹었다고 했다.\n",
      "metadata: {'date': '2025-01-12'}\n",
      "어시스턴트: 커피 마실 거구나! 그럼 오늘은 커피랑 딸기 모카번 조합으로 가는 건가? 저번에 말했듯이 커피 마시면 잠을 잘 못 잔다고 했잖아. 그렇게 생각해도 괜찮아? 아니면 특별한 날이니까 괜찮을까? 오늘 마시고 싶은 커피 스타일도 있어?\n",
      "results: [{'content': \"오늘 가장 기대되는 것은 점심에 '선재 업고 튀어라'라는 드라마를 보면서 밥을 먹는 것이다. 그 중에서도 캐릭터 '솔이'를 특히 좋아한다. 부엌에서는 엄마가 싸준 도시락을 먹을 계획이며, 도시락에는 마라탕이 들어있다. 매운 음식을 좋아하며, 다음에 도전해보고 싶은 음식으로는 떡볶이와 짬뽕을 생각하고 있다. 이번 주말에는 마라탕을 먹을 계획이며, 그 외에 교회를 가는 것도 계획에 있다. 교회에서는 예배드리는 것을 가장 좋아한다. 예배 후에는 친구들과 카페를 가거나, 집에서 쉬곤 한다. 카페에서는 주로 바스트 치즈 케이크와 딸기 라떼를 마신다.\", 'metadata': {'date': '2025-01-13'}}]\n",
      "context: 오늘 가장 기대되는 것은 점심에 '선재 업고 튀어라'라는 드라마를 보면서 밥을 먹는 것이다. 그 중에서도 캐릭터 '솔이'를 특히 좋아한다. 부엌에서는 엄마가 싸준 도시락을 먹을 계획이며, 도시락에는 마라탕이 들어있다. 매운 음식을 좋아하며, 다음에 도전해보고 싶은 음식으로는 떡볶이와 짬뽕을 생각하고 있다. 이번 주말에는 마라탕을 먹을 계획이며, 그 외에 교회를 가는 것도 계획에 있다. 교회에서는 예배드리는 것을 가장 좋아한다. 예배 후에는 친구들과 카페를 가거나, 집에서 쉬곤 한다. 카페에서는 주로 바스트 치즈 케이크와 딸기 라떼를 마신다.\n",
      "metadata: {'date': '2025-01-13'}\n",
      "어시스턴트: 지금 대화가 없네? 괜찮아! 저번에 말한 것처럼 '선재 업고 튀어라' 드라마 정말 기대된다고 했잖아. 솔이 캐릭터도 좋아한다고 했고. 오늘 드라마 보면서 뭐 먹을 거야? 아니면 최근에 또 다른 드라마 관련해서 흥미로운 거 발견한 게 있어?\n",
      "대화를 종료합니다.\n"
     ]
    }
   ],
   "source": [
    "def interactive_chat():\n",
    "    print(\"대화를 시작합니다. 종료하려면 '종료'라고 입력하세요.\")\n",
    "    while True:\n",
    "        # 사용자 입력 받기\n",
    "        query = input(\"사용자: \")\n",
    "        \n",
    "        # 종료 조건\n",
    "        if query.strip() == \"종료\":\n",
    "            print(\"대화를 종료합니다.\")\n",
    "            break\n",
    "\n",
    "        # GPT 응답 생성\n",
    "        response = generate_response(query)\n",
    "        \n",
    "        # 어시스턴트 응답 출력\n",
    "        print(f\"어시스턴트: {response}\")\n",
    "\n",
    "\n",
    "# 대화 실행\n",
    "interactive_chat()"
   ]
  }
 ],
 "metadata": {
  "kernelspec": {
   "display_name": "melissa",
   "language": "python",
   "name": "python3"
  },
  "language_info": {
   "codemirror_mode": {
    "name": "ipython",
    "version": 3
   },
   "file_extension": ".py",
   "mimetype": "text/x-python",
   "name": "python",
   "nbconvert_exporter": "python",
   "pygments_lexer": "ipython3",
   "version": "3.12.8"
  }
 },
 "nbformat": 4,
 "nbformat_minor": 2
}
