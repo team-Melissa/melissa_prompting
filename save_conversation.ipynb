{
 "cells": [
  {
   "cell_type": "code",
   "execution_count": null,
   "metadata": {},
   "outputs": [],
   "source": [
    "import os\n",
    "import json\n",
    "\n",
    "# 대화 내용을 변수로 저장\n",
    "conversation = [\n",
    "    {\"role\": \"user\", \"content\": \"너가 먼저 질문 해줘\"},\n",
    "    {\"role\": \"assistant\", \"content\": \"좋아, 오늘 하루 어땠어? 어떤 일이 있었는지 들려줘!\"},\n",
    "    {\"role\": \"user\", \"content\": \"나 오늘 마라탕 먹었어!\"},\n",
    "    {\"role\": \"assistant\", \"content\": \"오, 마라탕 맛있지! 어떤 토핑을 넣었어?\"},\n",
    "    {\"role\": \"user\", \"content\": \"나는 푸주를 좋아해\"},\n",
    "    {\"role\": \"assistant\", \"content\": \"푸주 맛있지! 고소하고 쫄깃해서 나도 좋아해. 마라탕 먹고 나서는 뭐 했어?\"},\n",
    "    {\"role\": \"user\", \"content\": \"마라탕 먹고 탕탕탕후루지~\"},\n",
    "    {\"role\": \"assistant\", \"content\": \"탕후루까지 먹다니 정말 군침 돋는 하루였네! 탕후루는 어떤 과일로 만들었어?\"},\n",
    "    {\"role\": \"user\", \"content\": \"딸기! 난 딸기가 너~무 좋아\"},\n",
    "    {\"role\": \"assistant\", \"content\": \"딸기 탕후루 진짜 맛있지! 그 달콤한 맛이 딱 좋아. 딸기가 들어간 디저트도 좋아해?\"},\n",
    "    {\"role\": \"user\", \"content\": \"웅웅 오늘 딸기 들어간 빵도 사먹었다!\"},\n",
    "    {\"role\": \"assistant\", \"content\": \"딸기 들어간 빵이라니 진짜 환상의 조합이네! 특히 어떤 맛이 좋았어?\"},\n",
    "    {\"role\": \"user\", \"content\": \"크림이랑 딸기 모카번이었는데 난 크림도 너무 좋아!\"},\n",
    "    {\"role\": \"assistant\", \"content\": \"크림과 딸기의 부드러운 조합이 정말 환상적이었겠네! 하루가 달콤했겠다. 내일도 특별히 계획한 일이 있어?\"},\n",
    "    {\"role\": \"user\", \"content\": \"내일도 마라탕 먹을거야!\"},\n",
    "    {\"role\": \"assistant\", \"content\": \"마라탕을 정말 좋아하는구나! 다른 음식도 같이 먹을 계획이야, 아니면 오직 마라탕에 집중할 거야?\"}\n",
    "]\n",
    "\n",
    "# 저장할 파일 경로 설정\n",
    "output_filename = \"conversation/conversation_250111.json\"\n",
    "output_dir = os.path.dirname(output_filename)  # 디렉터리 경로 추출\n",
    "\n",
    "# 폴더가 없을 경우 생성\n",
    "if not os.path.exists(output_dir):\n",
    "    os.makedirs(output_dir)\n",
    "    print(f\"폴더 '{output_dir}'가 생성되었습니다.\")\n",
    "\n",
    "# JSON 파일로 저장\n",
    "with open(output_filename, \"w\", encoding=\"utf-8\") as json_file:\n",
    "    json.dump(conversation, json_file, ensure_ascii=False, indent=4)\n",
    "\n",
    "print(f\"대화 내용이 '{output_filename}' 파일로 저장되었습니다!\")"
   ]
  }
 ],
 "metadata": {
  "kernelspec": {
   "display_name": "melissa",
   "language": "python",
   "name": "python3"
  },
  "language_info": {
   "name": "python",
   "version": "3.12.8"
  }
 },
 "nbformat": 4,
 "nbformat_minor": 2
}
