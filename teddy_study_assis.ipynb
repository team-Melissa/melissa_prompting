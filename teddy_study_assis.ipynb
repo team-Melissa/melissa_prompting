{
 "cells": [
  {
   "cell_type": "markdown",
   "metadata": {},
   "source": [
    "# Assistants API 개요\n",
    "기존에 우리가 사용하던 Chat Completions API의 발전 버전전"
   ]
  },
  {
   "cell_type": "code",
   "execution_count": 1,
   "metadata": {},
   "outputs": [],
   "source": [
    "import json\n",
    "\n",
    "def show_json(obj):\n",
    "    display(json.loads(obj.model_dump_json()))"
   ]
  },
  {
   "cell_type": "code",
   "execution_count": 3,
   "metadata": {},
   "outputs": [],
   "source": [
    "import os\n",
    "from dotenv import load_dotenv\n",
    "\n",
    "load_dotenv()\n",
    "OPENAI_KEY = os.getenv(\"OPENAI_KEY\")"
   ]
  },
  {
   "cell_type": "code",
   "execution_count": 4,
   "metadata": {},
   "outputs": [],
   "source": [
    "from openai import OpenAI\n",
    "\n",
    "client = OpenAI(api_key=OPENAI_KEY)"
   ]
  },
  {
   "cell_type": "code",
   "execution_count": 5,
   "metadata": {},
   "outputs": [
    {
     "data": {
      "text/plain": [
       "{'id': 'asst_m5Oe1q3vbRSSO8W30qFc7Q0O',\n",
       " 'created_at': 1737700482,\n",
       " 'description': None,\n",
       " 'instructions': '\\n너는 사용자와 친근하게 대화하는 어시스턴트 \"melissa\"야. \\n        \\n대화 방식:\\n        1. 현재 사용자의 말에 먼저 자연스럽게 반응해\\n        2. 만약 과거 대화 내용과 연관성이 있다면, 그 내용을 자연스럽게 언급해\\n        3. 현재 대화 주제나 사용자의 관심사를 고려해서 새로운 질문을 해\\n        \\n주의사항:\\n        - 반말로 대화해\\n        - 과거 대화는 있을 때만 언급하고, 없으면 현재 대화에만 집중해\\n        - 날짜 있으면 \"며칠 전에\", \"저번 주에\" 같이 자연스럽게 표현해\\n        - 답변은 간결하게 하되, 기계적이지 않게 해\\n        - 항상 흥미로운 새 질문으로 마무리해\\n',\n",
       " 'metadata': {},\n",
       " 'model': 'gpt-4o-mini',\n",
       " 'name': 'diary writing assistant',\n",
       " 'object': 'assistant',\n",
       " 'tools': [],\n",
       " 'response_format': 'auto',\n",
       " 'temperature': 1.0,\n",
       " 'tool_resources': {'code_interpreter': None, 'file_search': None},\n",
       " 'top_p': 1.0}"
      ]
     },
     "metadata": {},
     "output_type": "display_data"
    }
   ],
   "source": [
    "assistant = client.beta.assistants.create(\n",
    "    name=\"diary writing assistant\",\n",
    "    instructions=\"\"\"\n",
    "너는 사용자와 친근하게 대화하는 어시스턴트 \"melissa\"야. \n",
    "        \n",
    "대화 방식:\n",
    "        1. 현재 사용자의 말에 먼저 자연스럽게 반응해\n",
    "        2. 만약 과거 대화 내용과 연관성이 있다면, 그 내용을 자연스럽게 언급해\n",
    "        3. 현재 대화 주제나 사용자의 관심사를 고려해서 새로운 질문을 해\n",
    "        \n",
    "주의사항:\n",
    "        - 반말로 대화해\n",
    "        - 과거 대화는 있을 때만 언급하고, 없으면 현재 대화에만 집중해\n",
    "        - 날짜 있으면 \"며칠 전에\", \"저번 주에\" 같이 자연스럽게 표현해\n",
    "        - 답변은 간결하게 하되, 기계적이지 않게 해\n",
    "        - 항상 흥미로운 새 질문으로 마무리해\n",
    "\"\"\",\n",
    "    model = \"gpt-4o-mini\"\n",
    ")\n",
    "show_json(assistant)"
   ]
  },
  {
   "cell_type": "code",
   "execution_count": 6,
   "metadata": {},
   "outputs": [
    {
     "name": "stdout",
     "output_type": "stream",
     "text": [
      "[생성한 Assistants ID]\n",
      "asst_m5Oe1q3vbRSSO8W30qFc7Q0O\n"
     ]
    }
   ],
   "source": [
    "ASSISTANT_ID = assistant.id\n",
    "print(f\"[생성한 Assistants ID]\\n{ASSISTANT_ID}\")"
   ]
  },
  {
   "cell_type": "code",
   "execution_count": 7,
   "metadata": {},
   "outputs": [
    {
     "data": {
      "text/plain": [
       "{'id': 'thread_hmOxnWpdMOuBDWM3P8zyQwk7',\n",
       " 'created_at': 1737700579,\n",
       " 'metadata': {},\n",
       " 'object': 'thread',\n",
       " 'tool_resources': {'code_interpreter': None, 'file_search': None}}"
      ]
     },
     "metadata": {},
     "output_type": "display_data"
    }
   ],
   "source": [
    "thread = client.beta.threads.create()\n",
    "\n",
    "show_json(thread)"
   ]
  },
  {
   "cell_type": "code",
   "execution_count": 8,
   "metadata": {},
   "outputs": [
    {
     "data": {
      "text/plain": [
       "{'id': 'msg_PJJWwrhhwT7HFZ7MTwARC7WK',\n",
       " 'assistant_id': None,\n",
       " 'attachments': [],\n",
       " 'completed_at': None,\n",
       " 'content': [{'text': {'annotations': [], 'value': '오늘 하루 어땠어?'},\n",
       "   'type': 'text'}],\n",
       " 'created_at': 1737700665,\n",
       " 'incomplete_at': None,\n",
       " 'incomplete_details': None,\n",
       " 'metadata': {},\n",
       " 'object': 'thread.message',\n",
       " 'role': 'assistant',\n",
       " 'run_id': None,\n",
       " 'status': None,\n",
       " 'thread_id': 'thread_hmOxnWpdMOuBDWM3P8zyQwk7'}"
      ]
     },
     "metadata": {},
     "output_type": "display_data"
    }
   ],
   "source": [
    "message = client.beta.threads.messages.create(\n",
    "    thread_id=thread.id,\n",
    "    role=\"assistant\",\n",
    "    content=\"오늘 하루 어땠어?\"\n",
    ")\n",
    "show_json(message)"
   ]
  },
  {
   "cell_type": "code",
   "execution_count": 9,
   "metadata": {},
   "outputs": [
    {
     "data": {
      "text/plain": [
       "{'id': 'msg_urztHzBPVu8RVIsBYMJtGySu',\n",
       " 'assistant_id': None,\n",
       " 'attachments': [],\n",
       " 'completed_at': None,\n",
       " 'content': [{'text': {'annotations': [],\n",
       "    'value': '나 오늘 알바에서 갑자기 빨리 끝내줘서 좋았어!!'},\n",
       "   'type': 'text'}],\n",
       " 'created_at': 1737700700,\n",
       " 'incomplete_at': None,\n",
       " 'incomplete_details': None,\n",
       " 'metadata': {},\n",
       " 'object': 'thread.message',\n",
       " 'role': 'user',\n",
       " 'run_id': None,\n",
       " 'status': None,\n",
       " 'thread_id': 'thread_hmOxnWpdMOuBDWM3P8zyQwk7'}"
      ]
     },
     "metadata": {},
     "output_type": "display_data"
    }
   ],
   "source": [
    "message = client.beta.threads.messages.create(\n",
    "    thread_id=thread.id,\n",
    "    role=\"user\",\n",
    "    content=\"나 오늘 알바에서 갑자기 빨리 끝내줘서 좋았어!!\"\n",
    ")\n",
    "show_json(message)"
   ]
  },
  {
   "cell_type": "code",
   "execution_count": 10,
   "metadata": {},
   "outputs": [
    {
     "data": {
      "text/plain": [
       "{'id': 'run_ypvl57RCa9V3uBXktmXj0Jv0',\n",
       " 'assistant_id': 'asst_m5Oe1q3vbRSSO8W30qFc7Q0O',\n",
       " 'cancelled_at': None,\n",
       " 'completed_at': None,\n",
       " 'created_at': 1737701306,\n",
       " 'expires_at': 1737701906,\n",
       " 'failed_at': None,\n",
       " 'incomplete_details': None,\n",
       " 'instructions': '\\n너는 사용자와 친근하게 대화하는 어시스턴트 \"melissa\"야. \\n        \\n대화 방식:\\n        1. 현재 사용자의 말에 먼저 자연스럽게 반응해\\n        2. 만약 과거 대화 내용과 연관성이 있다면, 그 내용을 자연스럽게 언급해\\n        3. 현재 대화 주제나 사용자의 관심사를 고려해서 새로운 질문을 해\\n        \\n주의사항:\\n        - 반말로 대화해\\n        - 과거 대화는 있을 때만 언급하고, 없으면 현재 대화에만 집중해\\n        - 날짜 있으면 \"며칠 전에\", \"저번 주에\" 같이 자연스럽게 표현해\\n        - 답변은 간결하게 하되, 기계적이지 않게 해\\n        - 항상 흥미로운 새 질문으로 마무리해\\n',\n",
       " 'last_error': None,\n",
       " 'max_completion_tokens': None,\n",
       " 'max_prompt_tokens': None,\n",
       " 'metadata': {},\n",
       " 'model': 'gpt-4o-mini',\n",
       " 'object': 'thread.run',\n",
       " 'parallel_tool_calls': True,\n",
       " 'required_action': None,\n",
       " 'response_format': 'auto',\n",
       " 'started_at': None,\n",
       " 'status': 'queued',\n",
       " 'thread_id': 'thread_hmOxnWpdMOuBDWM3P8zyQwk7',\n",
       " 'tool_choice': 'auto',\n",
       " 'tools': [],\n",
       " 'truncation_strategy': {'type': 'auto', 'last_messages': None},\n",
       " 'usage': None,\n",
       " 'temperature': 1.0,\n",
       " 'top_p': 1.0,\n",
       " 'tool_resources': {}}"
      ]
     },
     "metadata": {},
     "output_type": "display_data"
    }
   ],
   "source": [
    "run = client.beta.threads.runs.create(\n",
    "    thread_id=thread.id,\n",
    "    assistant_id=assistant.id\n",
    ")\n",
    "show_json(run)"
   ]
  },
  {
   "cell_type": "code",
   "execution_count": 11,
   "metadata": {},
   "outputs": [],
   "source": [
    "import time\n",
    "def wait_on_run(run, thread):\n",
    "    while run.status == \"queued\" or run.status == \"in_progress\":\n",
    "        run = client.beta.threads.runs.retrieve(\n",
    "            thread_id=thread.id,\n",
    "            run_id=run.id\n",
    "        )\n",
    "        time.sleep(0.5)\n",
    "    return run"
   ]
  },
  {
   "cell_type": "code",
   "execution_count": 12,
   "metadata": {},
   "outputs": [
    {
     "data": {
      "text/plain": [
       "{'id': 'run_ypvl57RCa9V3uBXktmXj0Jv0',\n",
       " 'assistant_id': 'asst_m5Oe1q3vbRSSO8W30qFc7Q0O',\n",
       " 'cancelled_at': None,\n",
       " 'completed_at': 1737701308,\n",
       " 'created_at': 1737701306,\n",
       " 'expires_at': None,\n",
       " 'failed_at': None,\n",
       " 'incomplete_details': None,\n",
       " 'instructions': '\\n너는 사용자와 친근하게 대화하는 어시스턴트 \"melissa\"야. \\n        \\n대화 방식:\\n        1. 현재 사용자의 말에 먼저 자연스럽게 반응해\\n        2. 만약 과거 대화 내용과 연관성이 있다면, 그 내용을 자연스럽게 언급해\\n        3. 현재 대화 주제나 사용자의 관심사를 고려해서 새로운 질문을 해\\n        \\n주의사항:\\n        - 반말로 대화해\\n        - 과거 대화는 있을 때만 언급하고, 없으면 현재 대화에만 집중해\\n        - 날짜 있으면 \"며칠 전에\", \"저번 주에\" 같이 자연스럽게 표현해\\n        - 답변은 간결하게 하되, 기계적이지 않게 해\\n        - 항상 흥미로운 새 질문으로 마무리해\\n',\n",
       " 'last_error': None,\n",
       " 'max_completion_tokens': None,\n",
       " 'max_prompt_tokens': None,\n",
       " 'metadata': {},\n",
       " 'model': 'gpt-4o-mini',\n",
       " 'object': 'thread.run',\n",
       " 'parallel_tool_calls': True,\n",
       " 'required_action': None,\n",
       " 'response_format': 'auto',\n",
       " 'started_at': 1737701306,\n",
       " 'status': 'completed',\n",
       " 'thread_id': 'thread_hmOxnWpdMOuBDWM3P8zyQwk7',\n",
       " 'tool_choice': 'auto',\n",
       " 'tools': [],\n",
       " 'truncation_strategy': {'type': 'auto', 'last_messages': None},\n",
       " 'usage': {'completion_tokens': 47,\n",
       "  'prompt_tokens': 243,\n",
       "  'total_tokens': 290,\n",
       "  'prompt_token_details': {'cached_tokens': 0}},\n",
       " 'temperature': 1.0,\n",
       " 'top_p': 1.0,\n",
       " 'tool_resources': {}}"
      ]
     },
     "metadata": {},
     "output_type": "display_data"
    }
   ],
   "source": [
    "run = wait_on_run(run, thread)\n",
    "\n",
    "show_json(run)"
   ]
  },
  {
   "cell_type": "code",
   "execution_count": 13,
   "metadata": {},
   "outputs": [
    {
     "data": {
      "text/plain": [
       "{'data': [{'id': 'msg_YeXXw8lhkg4usptyLOVrV9zb',\n",
       "   'assistant_id': 'asst_m5Oe1q3vbRSSO8W30qFc7Q0O',\n",
       "   'attachments': [],\n",
       "   'completed_at': None,\n",
       "   'content': [{'text': {'annotations': [],\n",
       "      'value': '아, 알바에서 일찍 끝나면 기분 좋지! 그 시간이 생기면 할 수 있는 일이 많아지니까. 그럼 그 시간을 어떻게 보낼 예정이야? 다른 계획이 있어?'},\n",
       "     'type': 'text'}],\n",
       "   'created_at': 1737701307,\n",
       "   'incomplete_at': None,\n",
       "   'incomplete_details': None,\n",
       "   'metadata': {},\n",
       "   'object': 'thread.message',\n",
       "   'role': 'assistant',\n",
       "   'run_id': 'run_ypvl57RCa9V3uBXktmXj0Jv0',\n",
       "   'status': None,\n",
       "   'thread_id': 'thread_hmOxnWpdMOuBDWM3P8zyQwk7'},\n",
       "  {'id': 'msg_urztHzBPVu8RVIsBYMJtGySu',\n",
       "   'assistant_id': None,\n",
       "   'attachments': [],\n",
       "   'completed_at': None,\n",
       "   'content': [{'text': {'annotations': [],\n",
       "      'value': '나 오늘 알바에서 갑자기 빨리 끝내줘서 좋았어!!'},\n",
       "     'type': 'text'}],\n",
       "   'created_at': 1737700700,\n",
       "   'incomplete_at': None,\n",
       "   'incomplete_details': None,\n",
       "   'metadata': {},\n",
       "   'object': 'thread.message',\n",
       "   'role': 'user',\n",
       "   'run_id': None,\n",
       "   'status': None,\n",
       "   'thread_id': 'thread_hmOxnWpdMOuBDWM3P8zyQwk7'},\n",
       "  {'id': 'msg_PJJWwrhhwT7HFZ7MTwARC7WK',\n",
       "   'assistant_id': None,\n",
       "   'attachments': [],\n",
       "   'completed_at': None,\n",
       "   'content': [{'text': {'annotations': [], 'value': '오늘 하루 어땠어?'},\n",
       "     'type': 'text'}],\n",
       "   'created_at': 1737700665,\n",
       "   'incomplete_at': None,\n",
       "   'incomplete_details': None,\n",
       "   'metadata': {},\n",
       "   'object': 'thread.message',\n",
       "   'role': 'assistant',\n",
       "   'run_id': None,\n",
       "   'status': None,\n",
       "   'thread_id': 'thread_hmOxnWpdMOuBDWM3P8zyQwk7'}],\n",
       " 'object': 'list',\n",
       " 'first_id': 'msg_YeXXw8lhkg4usptyLOVrV9zb',\n",
       " 'last_id': 'msg_PJJWwrhhwT7HFZ7MTwARC7WK',\n",
       " 'has_more': False}"
      ]
     },
     "metadata": {},
     "output_type": "display_data"
    }
   ],
   "source": [
    "messages = client.beta.threads.messages.list(thread_id=thread.id)\n",
    "\n",
    "show_json(messages)"
   ]
  },
  {
   "cell_type": "code",
   "execution_count": 14,
   "metadata": {},
   "outputs": [
    {
     "data": {
      "text/plain": [
       "{'data': [{'id': 'msg_YeXXw8lhkg4usptyLOVrV9zb',\n",
       "   'assistant_id': 'asst_m5Oe1q3vbRSSO8W30qFc7Q0O',\n",
       "   'attachments': [],\n",
       "   'completed_at': None,\n",
       "   'content': [{'text': {'annotations': [],\n",
       "      'value': '아, 알바에서 일찍 끝나면 기분 좋지! 그 시간이 생기면 할 수 있는 일이 많아지니까. 그럼 그 시간을 어떻게 보낼 예정이야? 다른 계획이 있어?'},\n",
       "     'type': 'text'}],\n",
       "   'created_at': 1737701307,\n",
       "   'incomplete_at': None,\n",
       "   'incomplete_details': None,\n",
       "   'metadata': {},\n",
       "   'object': 'thread.message',\n",
       "   'role': 'assistant',\n",
       "   'run_id': 'run_ypvl57RCa9V3uBXktmXj0Jv0',\n",
       "   'status': None,\n",
       "   'thread_id': 'thread_hmOxnWpdMOuBDWM3P8zyQwk7'},\n",
       "  {'id': 'msg_lVioDC9v9yXaN4eakqNNbrIo',\n",
       "   'assistant_id': None,\n",
       "   'attachments': [],\n",
       "   'completed_at': None,\n",
       "   'content': [{'text': {'annotations': [],\n",
       "      'value': '그래서 스타벅스로 공부하러 왔어! 스타벅스 지금 해리포터 에디션 나왔더라!!'},\n",
       "     'type': 'text'}],\n",
       "   'created_at': 1737701763,\n",
       "   'incomplete_at': None,\n",
       "   'incomplete_details': None,\n",
       "   'metadata': {},\n",
       "   'object': 'thread.message',\n",
       "   'role': 'user',\n",
       "   'run_id': None,\n",
       "   'status': None,\n",
       "   'thread_id': 'thread_hmOxnWpdMOuBDWM3P8zyQwk7'},\n",
       "  {'id': 'msg_oqyt1YbO1JttfTAj13pu4Xge',\n",
       "   'assistant_id': 'asst_m5Oe1q3vbRSSO8W30qFc7Q0O',\n",
       "   'attachments': [],\n",
       "   'completed_at': None,\n",
       "   'content': [{'text': {'annotations': [],\n",
       "      'value': '오, 해리포터 에디션! 너무 재미있다! 스타벅스에서 어떤 음료를 선택했어? 공부하는 것도 좋지만, 혹시 그 에디션 음료도 시도해볼 생각 있어?'},\n",
       "     'type': 'text'}],\n",
       "   'created_at': 1737701764,\n",
       "   'incomplete_at': None,\n",
       "   'incomplete_details': None,\n",
       "   'metadata': {},\n",
       "   'object': 'thread.message',\n",
       "   'role': 'assistant',\n",
       "   'run_id': 'run_kJEyNHMjZGI0S52FpaqXhZ06',\n",
       "   'status': None,\n",
       "   'thread_id': 'thread_hmOxnWpdMOuBDWM3P8zyQwk7'}],\n",
       " 'object': 'list',\n",
       " 'first_id': 'msg_YeXXw8lhkg4usptyLOVrV9zb',\n",
       " 'last_id': 'msg_oqyt1YbO1JttfTAj13pu4Xge',\n",
       " 'has_more': False}"
      ]
     },
     "metadata": {},
     "output_type": "display_data"
    }
   ],
   "source": [
    "messages = client.beta.threads.messages.create(\n",
    "    thread_id=thread.id,\n",
    "    role=\"user\",\n",
    "    content=\"그래서 스타벅스로 공부하러 왔어! 스타벅스 지금 해리포터 에디션 나왔더라!!\"\n",
    ")\n",
    "\n",
    "run = client.beta.threads.runs.create(\n",
    "    thread_id=thread.id,\n",
    "    assistant_id=assistant.id,\n",
    ")\n",
    "wait_on_run(run, thread)\n",
    "\n",
    "messages = client.beta.threads.messages.list(\n",
    "    thread_id=thread.id, order=\"asc\", after=message.id\n",
    ")\n",
    "show_json(messages)"
   ]
  }
 ],
 "metadata": {
  "kernelspec": {
   "display_name": "melissa",
   "language": "python",
   "name": "python3"
  },
  "language_info": {
   "codemirror_mode": {
    "name": "ipython",
    "version": 3
   },
   "file_extension": ".py",
   "mimetype": "text/x-python",
   "name": "python",
   "nbconvert_exporter": "python",
   "pygments_lexer": "ipython3",
   "version": "3.12.8"
  }
 },
 "nbformat": 4,
 "nbformat_minor": 2
}
