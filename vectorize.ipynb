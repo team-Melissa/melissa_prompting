{
 "cells": [
  {
   "cell_type": "code",
   "execution_count": 6,
   "metadata": {},
   "outputs": [
    {
     "name": "stdout",
     "output_type": "stream",
     "text": [
      "데이터 통합 완료.\n",
      "총 3개의 문서가 통합되었습니다.\n",
      "{'content': '사용자는 오늘 마라탕을 먹었으며, 푸주를 토핑으로 선택했다. 마라탕을 먹은 후에는 딸기 탕후루를 먹었다. 또한 딸기가 들어간 빵을 사 먹었으며, 특히 크림이랑 딸기 모카번을 좋아한다. 내일도 마라탕을 먹을 예정이다.', 'metadata': {'date': '2025-01-11'}}\n",
      "{'content': '사용자는 기분이 좋다고 말하며, 딸기가 들어간 크림 모카번을 먹었다. 그는 커피를 마시면 잠을 잘 못 자기 때문에 커피와 함께 먹지 않았다. 그는 또한 소금빵을 좋아하며, 몇 주 전에 마지막으로 먹은 것 같다. 그의 다음 목표는 학교 아래 브레덴코에서 빵을 먹는 것이다. 케이크도 좋아하며, 최근에 생크림 케이크를 먹었다고 했다.', 'metadata': {'date': '2025-01-12'}}\n",
      "{'content': \"오늘 가장 기대되는 것은 점심에 '선재 업고 튀어라'라는 드라마를 보면서 밥을 먹는 것이다. 그 중에서도 캐릭터 '솔이'를 특히 좋아한다. 부엌에서는 엄마가 싸준 도시락을 먹을 계획이며, 도시락에는 마라탕이 들어있다. 매운 음식을 좋아하며, 다음에 도전해보고 싶은 음식으로는 떡볶이와 짬뽕을 생각하고 있다. 이번 주말에는 마라탕을 먹을 계획이며, 그 외에 교회를 가는 것도 계획에 있다. 교회에서는 예배드리는 것을 가장 좋아한다. 예배 후에는 친구들과 카페를 가거나, 집에서 쉬곤 한다. 카페에서는 주로 바스트 치즈 케이크와 딸기 라떼를 마신다.\", 'metadata': {'date': '2025-01-13'}}\n",
      "벡터 저장소 생성 및 영구 저장 완료!\n"
     ]
    },
    {
     "name": "stderr",
     "output_type": "stream",
     "text": [
      "C:\\Users\\dasolkim7\\AppData\\Local\\Temp\\ipykernel_23612\\2980102256.py:70: LangChainDeprecationWarning: Since Chroma 0.4.x the manual persistence method is no longer supported as docs are automatically persisted.\n",
      "  vectorstore.persist()\n"
     ]
    }
   ],
   "source": [
    "import os\n",
    "import json\n",
    "from langchain.vectorstores import Chroma\n",
    "from langchain_openai import OpenAIEmbeddings\n",
    "from langchain.schema import Document\n",
    "from dotenv import load_dotenv\n",
    "\n",
    "load_dotenv()  # .env 파일 불러오기\n",
    "OPENAI_KEY = os.getenv(\"OPENAI_KEY\")\n",
    "\n",
    "# 파일 및 디렉토리 설정\n",
    "date_list_file = \"date_list.txt\"  # 날짜 목록 파일\n",
    "data_dir = \"summary\"  # JSON 파일이 저장된 디렉토리\n",
    "documents = []\n",
    "\n",
    "try:\n",
    "    # 날짜 목록 읽기\n",
    "    with open(date_list_file, \"r\", encoding=\"utf-8\") as date_file:\n",
    "        dates = [line.strip() for line in date_file if line.strip()]  # 빈 줄 제거\n",
    "\n",
    "    # 날짜별 파일 처리\n",
    "    for date_raw in dates:\n",
    "        file_name = f\"summary_{date_raw}.json\"\n",
    "        file_path = os.path.join(data_dir, file_name)\n",
    "\n",
    "        if os.path.exists(file_path):  # 파일 존재 여부 확인\n",
    "            # 날짜 변환: \"250111\" -> \"2025-01-11\"\n",
    "            date = f\"20{date_raw[:2]}-{date_raw[2:4]}-{date_raw[4:]}\"\n",
    "\n",
    "            # JSON 파일 로드\n",
    "            with open(file_path, \"r\", encoding=\"utf-8\") as f:\n",
    "                summary_data = json.load(f)\n",
    "\n",
    "                # 요약 내용을 문서로 추가\n",
    "                if \"summary\" in summary_data:\n",
    "                    documents.append({\n",
    "                        \"content\": summary_data[\"summary\"],\n",
    "                        \"metadata\": {\"date\": date}\n",
    "                    })\n",
    "        else:\n",
    "            print(f\"파일 '{file_name}'을(를) 찾을 수 없습니다.\")\n",
    "\n",
    "    print(\"데이터 통합 완료.\")\n",
    "    print(f\"총 {len(documents)}개의 문서가 통합되었습니다.\")\n",
    "\n",
    "    # 통합된 문서 출력 (예시: 처음 5개 문서 출력)\n",
    "    for doc in documents[:5]:\n",
    "        print(doc)\n",
    "\n",
    "    # Step 2: 임베딩 및 벡터 저장소 생성\n",
    "    embeddings = OpenAIEmbeddings(openai_api_key=OPENAI_KEY)  # OpenAI Embeddings 사용\n",
    "\n",
    "    # documents 리스트를 Document 객체로 변환\n",
    "    documents_fixed = [\n",
    "        Document(page_content=doc[\"content\"], metadata=doc[\"metadata\"])\n",
    "        for doc in documents\n",
    "    ]\n",
    "\n",
    "    # Chroma DB를 영구 저장하기 위한 디렉토리 설정\n",
    "    persist_directory = \"./chroma_db\"  # 데이터베이스가 저장될 디렉토리\n",
    "\n",
    "    # 변환된 리스트를 사용하여 벡터 저장소 생성\n",
    "    vectorstore = Chroma.from_documents(\n",
    "        documents_fixed,\n",
    "        embedding=embeddings,\n",
    "        persist_directory=persist_directory\n",
    "    )\n",
    "\n",
    "    # 벡터 저장소를 디스크에 저장\n",
    "    vectorstore.persist()\n",
    "\n",
    "    print(\"벡터 저장소 생성 및 영구 저장 완료!\")\n",
    "\n",
    "except FileNotFoundError as e:\n",
    "    print(f\"오류: {str(e)}\")\n",
    "except Exception as e:\n",
    "    print(f\"오류 발생: {str(e)}\")"
   ]
  },
  {
   "cell_type": "code",
   "execution_count": 7,
   "metadata": {},
   "outputs": [
    {
     "name": "stdout",
     "output_type": "stream",
     "text": [
      "\n",
      "[유사도 검색 결과]\n",
      "결과 1:\n",
      "내용: 사용자는 기분이 좋다고 말하며, 딸기가 들어간 크림 모카번을 먹었다. 그는 커피를 마시면 잠을 잘 못 자기 때문에 커피와 함께 먹지 않았다. 그는 또한 소금빵을 좋아하며, 몇 주 전에 마지막으로 먹은 것 같다. 그의 다음 목표는 학교 아래 브레덴코에서 빵을 먹는 것이다. 케이크도 좋아하며, 최근에 생크림 케이크를 먹었다고 했다.\n",
      "메타데이터: {'date': '2025-01-12'}\n",
      "-----------------------------\n",
      "결과 2:\n",
      "내용: 오늘 가장 기대되는 것은 점심에 '선재 업고 튀어라'라는 드라마를 보면서 밥을 먹는 것이다. 그 중에서도 캐릭터 '솔이'를 특히 좋아한다. 부엌에서는 엄마가 싸준 도시락을 먹을 계획이며, 도시락에는 마라탕이 들어있다. 매운 음식을 좋아하며, 다음에 도전해보고 싶은 음식으로는 떡볶이와 짬뽕을 생각하고 있다. 이번 주말에는 마라탕을 먹을 계획이며, 그 외에 교회를 가는 것도 계획에 있다. 교회에서는 예배드리는 것을 가장 좋아한다. 예배 후에는 친구들과 카페를 가거나, 집에서 쉬곤 한다. 카페에서는 주로 바스트 치즈 케이크와 딸기 라떼를 마신다.\n",
      "메타데이터: {'date': '2025-01-13'}\n",
      "-----------------------------\n",
      "결과 3:\n",
      "내용: 사용자는 오늘 마라탕을 먹었으며, 푸주를 토핑으로 선택했다. 마라탕을 먹은 후에는 딸기 탕후루를 먹었다. 또한 딸기가 들어간 빵을 사 먹었으며, 특히 크림이랑 딸기 모카번을 좋아한다. 내일도 마라탕을 먹을 예정이다.\n",
      "메타데이터: {'date': '2025-01-11'}\n",
      "-----------------------------\n"
     ]
    }
   ],
   "source": [
    "# 예시 쿼리\n",
    "query = \"소금빵 먹은 얘기\"\n",
    "results = vectorstore.similarity_search(query, k=3)  # k=3: 상위 3개 결과\n",
    "\n",
    "print(\"\\n[유사도 검색 결과]\")\n",
    "for i, doc in enumerate(results):\n",
    "    print(f\"결과 {i+1}:\")\n",
    "    print(f\"내용: {doc.page_content}\")\n",
    "    print(f\"메타데이터: {doc.metadata}\")\n",
    "    print(\"-----------------------------\")\n"
   ]
  },
  {
   "cell_type": "code",
   "execution_count": 8,
   "metadata": {},
   "outputs": [
    {
     "name": "stdout",
     "output_type": "stream",
     "text": [
      "=== 저장된 임베딩 정보 ===\n",
      "문서 번호: 1\n",
      "문서 내용: 사용자는 오늘 마라탕을 먹었으며, 푸주를 토핑으로 선택했다. 마라탕을 먹은 후에는 딸기 탕후루를 먹었다. 또한 딸기가 들어간 빵을 사 먹었으며, 특히 크림이랑 딸기 모카번을 좋아한다. 내일도 마라탕을 먹을 예정이다.\n",
      "메타데이터: {'date': '2025-01-11'}\n",
      "임베딩 벡터 길이: 1536\n",
      "임베딩 앞부분: [-0.00323614 -0.00233002  0.01288558 -0.03337406 -0.0058267   0.01123392\n",
      " -0.01393426 -0.01222361 -0.01021146 -0.00163528] ...\n",
      "\n",
      "문서 번호: 2\n",
      "문서 내용: 사용자는 기분이 좋다고 말하며, 딸기가 들어간 크림 모카번을 먹었다. 그는 커피를 마시면 잠을 잘 못 자기 때문에 커피와 함께 먹지 않았다. 그는 또한 소금빵을 좋아하며, 몇 주 전에 마지막으로 먹은 것 같다. 그의 다음 목표는 학교 아래 브레덴코에서 빵을 먹는 것이다. 케이크도 좋아하며, 최근에 생크림 케이크를 먹었다고 했다.\n",
      "메타데이터: {'date': '2025-01-12'}\n",
      "임베딩 벡터 길이: 1536\n",
      "임베딩 앞부분: [-0.00054753 -0.01527661  0.03992392 -0.03609164 -0.00910822  0.00443271\n",
      " -0.01584095 -0.0200407  -0.00458692  0.00748081] ...\n",
      "\n",
      "문서 번호: 3\n",
      "문서 내용: 오늘 가장 기대되는 것은 점심에 '선재 업고 튀어라'라는 드라마를 보면서 밥을 먹는 것이다. 그 중에서도 캐릭터 '솔이'를 특히 좋아한다. 부엌에서는 엄마가 싸준 도시락을 먹을 계획이며, 도시락에는 마라탕이 들어있다. 매운 음식을 좋아하며, 다음에 도전해보고 싶은 음식으로는 떡볶이와 짬뽕을 생각하고 있다. 이번 주말에는 마라탕을 먹을 계획이며, 그 외에 교회를 가는 것도 계획에 있다. 교회에서는 예배드리는 것을 가장 좋아한다. 예배 후에는 친구들과 카페를 가거나, 집에서 쉬곤 한다. 카페에서는 주로 바스트 치즈 케이크와 딸기 라떼를 마신다.\n",
      "메타데이터: {'date': '2025-01-13'}\n",
      "임베딩 벡터 길이: 1536\n",
      "임베딩 앞부분: [-0.00488855 -0.00927906 -0.00089285 -0.03824338 -0.00048533  0.004017\n",
      " -0.02634311 -0.01365648 -0.02115312 -0.00449209] ...\n",
      "\n"
     ]
    }
   ],
   "source": [
    "# Chroma 벡터 스토어 객체가 vectorstore 변수에 있다고 가정\n",
    "collection = vectorstore._collection\n",
    "\n",
    "# include 파라미터에서 \"ids\"는 빼고, documents / embeddings / metadatas만 가져옴\n",
    "stored_data = collection.get(include=[\"documents\", \"embeddings\", \"metadatas\"])\n",
    "\n",
    "print(\"=== 저장된 임베딩 정보 ===\")\n",
    "\n",
    "# documents, embeddings, metadatas는 리스트 형태이므로 각각 꺼내서 확인 가능\n",
    "for i, (doc, embedding, metadata) in enumerate(zip(\n",
    "    stored_data[\"documents\"], \n",
    "    stored_data[\"embeddings\"], \n",
    "    stored_data[\"metadatas\"]\n",
    ")):\n",
    "    print(f\"문서 번호: {i+1}\")\n",
    "    print(f\"문서 내용: {doc}\")\n",
    "    print(f\"메타데이터: {metadata}\")    \n",
    "    print(f\"임베딩 벡터 길이: {len(embedding)}\")\n",
    "    # 임베딩 일부만 출력\n",
    "    print(f\"임베딩 앞부분: {embedding[:10]} ...\\n\")\n"
   ]
  }
 ],
 "metadata": {
  "kernelspec": {
   "display_name": "melissa",
   "language": "python",
   "name": "python3"
  },
  "language_info": {
   "codemirror_mode": {
    "name": "ipython",
    "version": 3
   },
   "file_extension": ".py",
   "mimetype": "text/x-python",
   "name": "python",
   "nbconvert_exporter": "python",
   "pygments_lexer": "ipython3",
   "version": "3.12.8"
  }
 },
 "nbformat": 4,
 "nbformat_minor": 2
}
