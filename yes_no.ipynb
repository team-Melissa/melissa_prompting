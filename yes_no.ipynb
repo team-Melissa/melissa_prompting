{
 "cells": [
  {
   "cell_type": "code",
   "execution_count": 1,
   "metadata": {},
   "outputs": [],
   "source": [
    "from openai import OpenAI\n",
    "import json\n",
    "import os\n",
    "from dotenv import load_dotenv\n",
    "\n",
    "load_dotenv()  # .env 파일 불러오기\n",
    "OPENAI_KEY = os.getenv(\"OPENAI_KEY\")\n",
    "\n",
    "def should_reference_vector_db(QUERY):\n",
    "    # OpenAI 클라이언트 초기화\n",
    "    client = OpenAI(api_key=OPENAI_KEY)\n",
    "\n",
    "    context = \"\"\"\n",
    "    Determine if the given query requires reference to the Vector DB.\n",
    "    The Vector DB contains past conversations between the user and ChatGPT.\n",
    "    Answer \"YES\" if referencing the Vector DB is necessary for the query to make sense,\n",
    "    such as when the query refers to past interactions or continuity. Otherwise, answer \"NO\".\n",
    "\n",
    "    [Examples]\n",
    "    case 1: Query requiring Vector DB reference\n",
    "    - Query: \"나 오늘 마라탕 먹을거야!\"\n",
    "    - Explanation: The query implies a continuity in conversation and relies on past interactions to generate an appropriate response, such as, \"너 어제도 먹었잖아!\"\n",
    "    - Output: \"YES\"\n",
    "\n",
    "    case 2: Query requiring Vector DB reference\n",
    "    - Query: \"나 오늘 기분이 별로 안 좋아..\"\n",
    "    - Explanation: The query could use information from past conversations (e.g., the user likes strawberry cake) to generate a meaningful response, such as, \"그럼 너가 좋아하는 딸기 케이크 먹어보는 거 어때?\"\n",
    "    - Output: \"YES\"\n",
    "\n",
    "    case 3: Query not requiring Vector DB reference\n",
    "    - Query: \"오늘 날씨 진짜 좋다!\"\n",
    "    - Explanation: The query is about a general statement that does not relate to past interactions. Accessing the Vector DB is unnecessary.\n",
    "    - Output: \"NO\"\n",
    "\n",
    "    [Query]\n",
    "    {query}\n",
    "    \"\"\"\n",
    "\n",
    "    functions = [\n",
    "        {\n",
    "            \"name\": \"determine_reference\",\n",
    "            \"description\": \"Determine if referencing the Vector DB is necessary for the query.\",\n",
    "            \"parameters\": {\n",
    "                \"type\": \"object\",\n",
    "                \"properties\": {\n",
    "                    \"answer\": {\n",
    "                        \"type\": \"string\",\n",
    "                        \"description\": \"The answer should be either 'YES' or 'NO'.\"\n",
    "                    }\n",
    "                },\n",
    "                \"required\": [\"answer\"]\n",
    "            }\n",
    "        }\n",
    "    ]\n",
    "\n",
    "    try:\n",
    "        # 쿼리 요청\n",
    "        response = client.chat.completions.create(\n",
    "            model=\"gpt-4o-mini\",\n",
    "            messages=[\n",
    "                {\"role\": \"system\", \"content\": context.format(query=QUERY)}\n",
    "            ],\n",
    "            tools=[{\n",
    "                \"type\": \"function\",\n",
    "                \"function\": functions[0]\n",
    "            }],\n",
    "            tool_choice={\"type\": \"function\", \"function\": {\"name\": \"determine_reference\"}}\n",
    "        )\n",
    "\n",
    "        # 응답 추출\n",
    "        function_call = response.choices[0].message.tool_calls[0].function\n",
    "        function_args = json.loads(function_call.arguments)\n",
    "\n",
    "        answer = function_args['answer']\n",
    "        return answer\n",
    "\n",
    "    except Exception as e:\n",
    "        print(f\"오류 발생: {str(e)}\")\n",
    "        return None\n"
   ]
  },
  {
   "cell_type": "code",
   "execution_count": 2,
   "metadata": {},
   "outputs": [
    {
     "name": "stdout",
     "output_type": "stream",
     "text": [
      "NO\n"
     ]
    }
   ],
   "source": [
    "result = should_reference_vector_db(\"나 오늘 대학 친구들 만나러가!\")\n",
    "print(result)"
   ]
  }
 ],
 "metadata": {
  "kernelspec": {
   "display_name": "melissa",
   "language": "python",
   "name": "python3"
  },
  "language_info": {
   "codemirror_mode": {
    "name": "ipython",
    "version": 3
   },
   "file_extension": ".py",
   "mimetype": "text/x-python",
   "name": "python",
   "nbconvert_exporter": "python",
   "pygments_lexer": "ipython3",
   "version": "3.12.8"
  }
 },
 "nbformat": 4,
 "nbformat_minor": 2
}
